{
  "cells": [
    {
      "cell_type": "markdown",
      "id": "6cb26260",
      "metadata": {
        "id": "6cb26260"
      },
      "source": [
        "## Import libraries"
      ]
    },
    {
      "cell_type": "code",
      "execution_count": 2,
      "id": "bf3aa395",
      "metadata": {
        "colab": {
          "base_uri": "https://localhost:8080/"
        },
        "id": "bf3aa395",
        "outputId": "1e5bcc5a-72da-4665-f0f7-5bc18efe587d"
      },
      "outputs": [
        {
          "output_type": "stream",
          "name": "stdout",
          "text": [
            "Looking in indexes: https://pypi.org/simple, https://us-python.pkg.dev/colab-wheels/public/simple/\n",
            "Collecting wandb\n",
            "  Downloading wandb-0.15.1-py3-none-any.whl (2.0 MB)\n",
            "\u001b[2K     \u001b[90m━━━━━━━━━━━━━━━━━━━━━━━━━━━━━━━━━━━━━━━━\u001b[0m \u001b[32m2.0/2.0 MB\u001b[0m \u001b[31m23.5 MB/s\u001b[0m eta \u001b[36m0:00:00\u001b[0m\n",
            "\u001b[?25hRequirement already satisfied: PyYAML in /usr/local/lib/python3.10/dist-packages (from wandb) (6.0)\n",
            "Requirement already satisfied: requests<3,>=2.0.0 in /usr/local/lib/python3.10/dist-packages (from wandb) (2.27.1)\n",
            "Requirement already satisfied: protobuf!=4.21.0,<5,>=3.19.0 in /usr/local/lib/python3.10/dist-packages (from wandb) (3.20.3)\n",
            "Collecting pathtools\n",
            "  Downloading pathtools-0.1.2.tar.gz (11 kB)\n",
            "  Preparing metadata (setup.py) ... \u001b[?25l\u001b[?25hdone\n",
            "Requirement already satisfied: appdirs>=1.4.3 in /usr/local/lib/python3.10/dist-packages (from wandb) (1.4.4)\n",
            "Collecting setproctitle\n",
            "  Downloading setproctitle-1.3.2-cp310-cp310-manylinux_2_5_x86_64.manylinux1_x86_64.manylinux_2_17_x86_64.manylinux2014_x86_64.whl (30 kB)\n",
            "Requirement already satisfied: psutil>=5.0.0 in /usr/local/lib/python3.10/dist-packages (from wandb) (5.9.5)\n",
            "Collecting sentry-sdk>=1.0.0\n",
            "  Downloading sentry_sdk-1.21.1-py2.py3-none-any.whl (201 kB)\n",
            "\u001b[2K     \u001b[90m━━━━━━━━━━━━━━━━━━━━━━━━━━━━━━━━━━━━━━\u001b[0m \u001b[32m201.7/201.7 kB\u001b[0m \u001b[31m20.1 MB/s\u001b[0m eta \u001b[36m0:00:00\u001b[0m\n",
            "\u001b[?25hCollecting docker-pycreds>=0.4.0\n",
            "  Downloading docker_pycreds-0.4.0-py2.py3-none-any.whl (9.0 kB)\n",
            "Requirement already satisfied: Click!=8.0.0,>=7.0 in /usr/local/lib/python3.10/dist-packages (from wandb) (8.1.3)\n",
            "Requirement already satisfied: setuptools in /usr/local/lib/python3.10/dist-packages (from wandb) (67.7.2)\n",
            "Collecting GitPython!=3.1.29,>=1.0.0\n",
            "  Downloading GitPython-3.1.31-py3-none-any.whl (184 kB)\n",
            "\u001b[2K     \u001b[90m━━━━━━━━━━━━━━━━━━━━━━━━━━━━━━━━━━━━━━\u001b[0m \u001b[32m184.3/184.3 kB\u001b[0m \u001b[31m17.6 MB/s\u001b[0m eta \u001b[36m0:00:00\u001b[0m\n",
            "\u001b[?25hRequirement already satisfied: six>=1.4.0 in /usr/local/lib/python3.10/dist-packages (from docker-pycreds>=0.4.0->wandb) (1.16.0)\n",
            "Collecting gitdb<5,>=4.0.1\n",
            "  Downloading gitdb-4.0.10-py3-none-any.whl (62 kB)\n",
            "\u001b[2K     \u001b[90m━━━━━━━━━━━━━━━━━━━━━━━━━━━━━━━━━━━━━━━━\u001b[0m \u001b[32m62.7/62.7 kB\u001b[0m \u001b[31m5.9 MB/s\u001b[0m eta \u001b[36m0:00:00\u001b[0m\n",
            "\u001b[?25hRequirement already satisfied: certifi>=2017.4.17 in /usr/local/lib/python3.10/dist-packages (from requests<3,>=2.0.0->wandb) (2022.12.7)\n",
            "Requirement already satisfied: urllib3<1.27,>=1.21.1 in /usr/local/lib/python3.10/dist-packages (from requests<3,>=2.0.0->wandb) (1.26.15)\n",
            "Requirement already satisfied: idna<4,>=2.5 in /usr/local/lib/python3.10/dist-packages (from requests<3,>=2.0.0->wandb) (3.4)\n",
            "Requirement already satisfied: charset-normalizer~=2.0.0 in /usr/local/lib/python3.10/dist-packages (from requests<3,>=2.0.0->wandb) (2.0.12)\n",
            "Collecting smmap<6,>=3.0.1\n",
            "  Downloading smmap-5.0.0-py3-none-any.whl (24 kB)\n",
            "Building wheels for collected packages: pathtools\n",
            "  Building wheel for pathtools (setup.py) ... \u001b[?25l\u001b[?25hdone\n",
            "  Created wheel for pathtools: filename=pathtools-0.1.2-py3-none-any.whl size=8807 sha256=b147422261fd1d14bbdf0abe9c533fae60db530bacf7a3dc4b66a4c293ec4902\n",
            "  Stored in directory: /root/.cache/pip/wheels/e7/f3/22/152153d6eb222ee7a56ff8617d80ee5207207a8c00a7aab794\n",
            "Successfully built pathtools\n",
            "Installing collected packages: pathtools, smmap, setproctitle, sentry-sdk, docker-pycreds, gitdb, GitPython, wandb\n",
            "Successfully installed GitPython-3.1.31 docker-pycreds-0.4.0 gitdb-4.0.10 pathtools-0.1.2 sentry-sdk-1.21.1 setproctitle-1.3.2 smmap-5.0.0 wandb-0.15.1\n"
          ]
        }
      ],
      "source": [
        "import numpy as np\n",
        "import pandas as pd\n",
        "from collections import defaultdict\n",
        "import re\n",
        "import keras\n",
        "from bs4 import BeautifulSoup\n",
        "import matplotlib.pyplot as plt\n",
        "%matplotlib inline\n",
        "import sys\n",
        "import os\n",
        "from sklearn.model_selection import train_test_split\n",
        "from keras.preprocessing.text import Tokenizer\n",
        "from tensorflow.keras.preprocessing.sequence import pad_sequences\n",
        "from keras.utils.np_utils import to_categorical\n",
        "!pip install wandb\n",
        "from wandb.keras import WandbCallback\n",
        "from keras.layers import Embedding\n",
        "from keras.layers import Dense, Input, Flatten\n",
        "from keras.layers import Conv1D, MaxPooling1D, Embedding, Dropout\n",
        "from keras.models import Model"
      ]
    },
    {
      "cell_type": "markdown",
      "id": "78e97abc",
      "metadata": {
        "id": "78e97abc"
      },
      "source": [
        "## Set initial parameters"
      ]
    },
    {
      "cell_type": "code",
      "execution_count": 3,
      "id": "0dc3fac3",
      "metadata": {
        "id": "0dc3fac3"
      },
      "outputs": [],
      "source": [
        "MAX_SEQUENCE_LENGTH = 1000\n",
        "EMBEDDING_DIM = 100\n",
        "MAX_NB_WORDS = 200000\n",
        "VALIDATION_SPLIT = 0.2"
      ]
    },
    {
      "cell_type": "markdown",
      "id": "e558c9ff",
      "metadata": {
        "id": "e558c9ff"
      },
      "source": [
        "## Load the Dataset"
      ]
    },
    {
      "cell_type": "code",
      "execution_count": 4,
      "id": "6a18493a",
      "metadata": {
        "colab": {
          "base_uri": "https://localhost:8080/"
        },
        "id": "6a18493a",
        "outputId": "94e2e737-6c2a-4a9b-b0f3-69b4fd0a5376"
      },
      "outputs": [
        {
          "output_type": "stream",
          "name": "stdout",
          "text": [
            "Index(['id', 'title', 'author', 'text', 'label'], dtype='object')\n",
            "The raw input data looks like: \n",
            "   id                                              title              author  \\\n",
            "0   0  House Dem Aide: We Didn’t Even See Comey’s Let...       Darrell Lucus   \n",
            "1   1  FLYNN: Hillary Clinton, Big Woman on Campus - ...     Daniel J. Flynn   \n",
            "2   2                  Why the Truth Might Get You Fired  Consortiumnews.com   \n",
            "3   3  15 Civilians Killed In Single US Airstrike Hav...     Jessica Purkiss   \n",
            "4   4  Iranian woman jailed for fictional unpublished...      Howard Portnoy   \n",
            "\n",
            "                                                text  label  \n",
            "0  House Dem Aide: We Didn’t Even See Comey’s Let...      1  \n",
            "1  Ever get the feeling your life circles the rou...      0  \n",
            "2  Why the Truth Might Get You Fired October 29, ...      1  \n",
            "3  Videos 15 Civilians Killed In Single US Airstr...      1  \n",
            "4  Print \\nAn Iranian woman has been sentenced to...      1  \n"
          ]
        }
      ],
      "source": [
        "    \n",
        "#clean the dataset\n",
        "def clean_str(string):\n",
        "    string = re.sub(r\"\\\\\", \"\", string)    \n",
        "    string = re.sub(r\"\\'\", \"\", string)    \n",
        "    string = re.sub(r\"\\\"\", \"\", string)    \n",
        "    return string.strip().lower()\n",
        "\n",
        "\n",
        "#read the training data\n",
        "train_data = pd.read_csv('train.csv')\n",
        "train_data.text[1]\n",
        "\n",
        "train_data\n",
        "\n",
        "train_data['label'].value_counts()\n",
        "\n",
        "\n",
        "print(train_data.columns)\n",
        "print('The raw input data looks like: ')\n",
        "print(train_data[0:5])"
      ]
    },
    {
      "cell_type": "markdown",
      "id": "6476776b",
      "metadata": {
        "id": "6476776b"
      },
      "source": [
        "## Vectorize the data"
      ]
    },
    {
      "cell_type": "code",
      "execution_count": 5,
      "id": "3c56ba2d",
      "metadata": {
        "colab": {
          "base_uri": "https://localhost:8080/"
        },
        "id": "3c56ba2d",
        "outputId": "4bfaaf77-a706-41f7-bfe7-5651ced4491a"
      },
      "outputs": [
        {
          "output_type": "stream",
          "name": "stdout",
          "text": [
            "There are 251876 unique tokens.\n",
            "Shape of data tensor: (20800, 1000)\n",
            "Shape of label tensor: (20800, 2)\n"
          ]
        }
      ],
      "source": [
        "labels =[]\n",
        "train_data_text =[] \n",
        "\n",
        "for index in range(train_data.text.shape[0]):\n",
        "    text1 = train_data.title[index]\n",
        "    text2 = train_data.text[index]\n",
        "    combined_text = str(text1) +\"\"+ str(text2)\n",
        "    train_data_text.append(combined_text)\n",
        "    labels.append(train_data.label[index])\n",
        "    \n",
        "tokenizer = Tokenizer(num_words=MAX_NB_WORDS)\n",
        "tokenizer.fit_on_texts(train_data_text)\n",
        "sequences = tokenizer.texts_to_sequences(train_data_text)\n",
        "\n",
        "word_index = tokenizer.word_index\n",
        "print('There are %s unique tokens.' % len(word_index))\n",
        "\n",
        "\n",
        "\n",
        "# Pad the input sequences\n",
        "data = pad_sequences(sequences, maxlen=MAX_SEQUENCE_LENGTH)\n",
        "labels = to_categorical(np.asarray(labels),num_classes = 2)\n",
        "print('Shape of data tensor:', data.shape)\n",
        "print('Shape of label tensor:', labels.shape)"
      ]
    },
    {
      "cell_type": "markdown",
      "id": "26deae01",
      "metadata": {
        "id": "26deae01"
      },
      "source": [
        "## Split the data and apply embeddings"
      ]
    },
    {
      "cell_type": "code",
      "execution_count": 6,
      "id": "1df6c2fb",
      "metadata": {
        "colab": {
          "base_uri": "https://localhost:8080/"
        },
        "id": "1df6c2fb",
        "outputId": "6cb31a86-70fb-43d6-d86c-a51c952ba408"
      },
      "outputs": [
        {
          "output_type": "stream",
          "name": "stdout",
          "text": [
            "Size of train, validation, test: 16640 10400 10400\n",
            "Real and fake news in train,validation and test:\n",
            "[8299. 8341.]\n",
            "[5152. 5248.]\n",
            "[5235. 5165.]\n",
            "Total 400000 word vectors in Glove.\n"
          ]
        }
      ],
      "source": [
        "indices = np.arange(data.shape[0])\n",
        "np.random.shuffle(indices)\n",
        "data = data[indices]\n",
        "labels = labels[indices]\n",
        "x_train, x_test, y_train, y_test = train_test_split( data, labels, test_size=0.20, random_state=42)\n",
        "x_test, x_val, y_test, y_val = train_test_split( data, labels, test_size=0.50, random_state=42)\n",
        "print('Size of train, validation, test:', len(y_train), len(y_val), len(y_test))\n",
        "\n",
        "print('Real and fake news in train,validation and test:')\n",
        "print(y_train.sum(axis=0))\n",
        "print(y_val.sum(axis=0))\n",
        "print(y_test.sum(axis=0))\n",
        "\n",
        "#Used Pre-trained word Glove embeddings\n",
        "GLOVE_DIR = \"data\" \n",
        "embeddings_index = {}\n",
        "f = open('glove.6B.100d.txt', encoding=\"utf8\")\n",
        "for line in f:\n",
        "    values = line.split()\n",
        "    word = values[0]\n",
        "    coefs = np.asarray(values[1:], dtype='float32')\n",
        "    embeddings_index[word] = coefs\n",
        "f.close()\n",
        "\n",
        "print('Total %s word vectors in Glove.' % len(embeddings_index))\n",
        "\n",
        "embedding_matrix = np.random.random((len(word_index) + 1, EMBEDDING_DIM))\n",
        "for word, index in word_index.items():\n",
        "    embedding_vector = embeddings_index.get(word)\n",
        "    if embedding_vector is not None:\n",
        "        # words not found in embedding index will be all-zeros.\n",
        "        embedding_matrix[index] = embedding_vector\n",
        "        \n",
        "embedding_layer = Embedding(len(word_index) + 1,\n",
        "                            EMBEDDING_DIM,\n",
        "                            weights=[embedding_matrix],\n",
        "                            input_length=MAX_SEQUENCE_LENGTH)"
      ]
    },
    {
      "cell_type": "code",
      "execution_count": 7,
      "id": "0cad6b47",
      "metadata": {
        "colab": {
          "base_uri": "https://localhost:8080/"
        },
        "id": "0cad6b47",
        "outputId": "dee7a352-fa78-44b8-be72-b27fd68e6f79"
      },
      "outputs": [
        {
          "output_type": "stream",
          "name": "stdout",
          "text": [
            "Looking in indexes: https://pypi.org/simple, https://us-python.pkg.dev/colab-wheels/public/simple/\n",
            "Requirement already satisfied: wandb in /usr/local/lib/python3.10/dist-packages (0.15.1)\n",
            "Requirement already satisfied: GitPython!=3.1.29,>=1.0.0 in /usr/local/lib/python3.10/dist-packages (from wandb) (3.1.31)\n",
            "Requirement already satisfied: sentry-sdk>=1.0.0 in /usr/local/lib/python3.10/dist-packages (from wandb) (1.21.1)\n",
            "Requirement already satisfied: docker-pycreds>=0.4.0 in /usr/local/lib/python3.10/dist-packages (from wandb) (0.4.0)\n",
            "Requirement already satisfied: pathtools in /usr/local/lib/python3.10/dist-packages (from wandb) (0.1.2)\n",
            "Requirement already satisfied: psutil>=5.0.0 in /usr/local/lib/python3.10/dist-packages (from wandb) (5.9.5)\n",
            "Requirement already satisfied: setuptools in /usr/local/lib/python3.10/dist-packages (from wandb) (67.7.2)\n",
            "Requirement already satisfied: appdirs>=1.4.3 in /usr/local/lib/python3.10/dist-packages (from wandb) (1.4.4)\n",
            "Requirement already satisfied: PyYAML in /usr/local/lib/python3.10/dist-packages (from wandb) (6.0)\n",
            "Requirement already satisfied: protobuf!=4.21.0,<5,>=3.19.0 in /usr/local/lib/python3.10/dist-packages (from wandb) (3.20.3)\n",
            "Requirement already satisfied: setproctitle in /usr/local/lib/python3.10/dist-packages (from wandb) (1.3.2)\n",
            "Requirement already satisfied: Click!=8.0.0,>=7.0 in /usr/local/lib/python3.10/dist-packages (from wandb) (8.1.3)\n",
            "Requirement already satisfied: requests<3,>=2.0.0 in /usr/local/lib/python3.10/dist-packages (from wandb) (2.27.1)\n",
            "Requirement already satisfied: six>=1.4.0 in /usr/local/lib/python3.10/dist-packages (from docker-pycreds>=0.4.0->wandb) (1.16.0)\n",
            "Requirement already satisfied: gitdb<5,>=4.0.1 in /usr/local/lib/python3.10/dist-packages (from GitPython!=3.1.29,>=1.0.0->wandb) (4.0.10)\n",
            "Requirement already satisfied: charset-normalizer~=2.0.0 in /usr/local/lib/python3.10/dist-packages (from requests<3,>=2.0.0->wandb) (2.0.12)\n",
            "Requirement already satisfied: urllib3<1.27,>=1.21.1 in /usr/local/lib/python3.10/dist-packages (from requests<3,>=2.0.0->wandb) (1.26.15)\n",
            "Requirement already satisfied: idna<4,>=2.5 in /usr/local/lib/python3.10/dist-packages (from requests<3,>=2.0.0->wandb) (3.4)\n",
            "Requirement already satisfied: certifi>=2017.4.17 in /usr/local/lib/python3.10/dist-packages (from requests<3,>=2.0.0->wandb) (2022.12.7)\n",
            "Requirement already satisfied: smmap<6,>=3.0.1 in /usr/local/lib/python3.10/dist-packages (from gitdb<5,>=4.0.1->GitPython!=3.1.29,>=1.0.0->wandb) (5.0.0)\n",
            "\u001b[34m\u001b[1mwandb\u001b[0m: Logging into wandb.ai. (Learn how to deploy a W&B server locally: https://wandb.me/wandb-server)\n",
            "\u001b[34m\u001b[1mwandb\u001b[0m: You can find your API key in your browser here: https://wandb.ai/authorize\n",
            "\u001b[34m\u001b[1mwandb\u001b[0m: Paste an API key from your profile and hit enter, or press ctrl+c to quit: \n",
            "\u001b[34m\u001b[1mwandb\u001b[0m: Appending key for api.wandb.ai to your netrc file: /root/.netrc\n"
          ]
        }
      ],
      "source": [
        "!pip install wandb\n",
        "\n",
        "!wandb login"
      ]
    },
    {
      "cell_type": "markdown",
      "id": "e6ac5bb0",
      "metadata": {
        "id": "e6ac5bb0"
      },
      "source": [
        "## Build the CNN model"
      ]
    },
    {
      "cell_type": "code",
      "execution_count": 8,
      "id": "76a754ce",
      "metadata": {
        "colab": {
          "base_uri": "https://localhost:8080/",
          "height": 1000
        },
        "id": "76a754ce",
        "outputId": "a1a1abe7-bed4-423a-88f6-85e3a6f5eee0"
      },
      "outputs": [
        {
          "output_type": "stream",
          "name": "stderr",
          "text": [
            "\u001b[34m\u001b[1mwandb\u001b[0m: Currently logged in as: \u001b[33mchdeepthidolie\u001b[0m (\u001b[33mdeepthi-912\u001b[0m). Use \u001b[1m`wandb login --relogin`\u001b[0m to force relogin\n"
          ]
        },
        {
          "output_type": "display_data",
          "data": {
            "text/plain": [
              "<IPython.core.display.HTML object>"
            ],
            "text/html": [
              "Tracking run with wandb version 0.15.1"
            ]
          },
          "metadata": {}
        },
        {
          "output_type": "display_data",
          "data": {
            "text/plain": [
              "<IPython.core.display.HTML object>"
            ],
            "text/html": [
              "Run data is saved locally in <code>/content/wandb/run-20230503_212355-mo3cx47d</code>"
            ]
          },
          "metadata": {}
        },
        {
          "output_type": "display_data",
          "data": {
            "text/plain": [
              "<IPython.core.display.HTML object>"
            ],
            "text/html": [
              "Syncing run <strong><a href='https://wandb.ai/deepthi-912/FakeNews/runs/mo3cx47d' target=\"_blank\">unique-armadillo-3</a></strong> to <a href='https://wandb.ai/deepthi-912/FakeNews' target=\"_blank\">Weights & Biases</a> (<a href='https://wandb.me/run' target=\"_blank\">docs</a>)<br/>"
            ]
          },
          "metadata": {}
        },
        {
          "output_type": "display_data",
          "data": {
            "text/plain": [
              "<IPython.core.display.HTML object>"
            ],
            "text/html": [
              " View project at <a href='https://wandb.ai/deepthi-912/FakeNews' target=\"_blank\">https://wandb.ai/deepthi-912/FakeNews</a>"
            ]
          },
          "metadata": {}
        },
        {
          "output_type": "display_data",
          "data": {
            "text/plain": [
              "<IPython.core.display.HTML object>"
            ],
            "text/html": [
              " View run at <a href='https://wandb.ai/deepthi-912/FakeNews/runs/mo3cx47d' target=\"_blank\">https://wandb.ai/deepthi-912/FakeNews/runs/mo3cx47d</a>"
            ]
          },
          "metadata": {}
        },
        {
          "output_type": "stream",
          "name": "stdout",
          "text": [
            "Fitting the convolutional neural network model\n",
            "Model: \"model\"\n",
            "_________________________________________________________________\n",
            " Layer (type)                Output Shape              Param #   \n",
            "=================================================================\n",
            " input_1 (InputLayer)        [(None, 1000)]            0         \n",
            "                                                                 \n",
            " embedding (Embedding)       (None, 1000, 100)         25187700  \n",
            "                                                                 \n",
            " conv1d (Conv1D)             (None, 996, 128)          64128     \n",
            "                                                                 \n",
            " max_pooling1d (MaxPooling1D  (None, 199, 128)         0         \n",
            " )                                                               \n",
            "                                                                 \n",
            " conv1d_1 (Conv1D)           (None, 195, 128)          82048     \n",
            "                                                                 \n",
            " max_pooling1d_1 (MaxPooling  (None, 39, 128)          0         \n",
            " 1D)                                                             \n",
            "                                                                 \n",
            " conv1d_2 (Conv1D)           (None, 35, 128)           82048     \n",
            "                                                                 \n",
            " max_pooling1d_2 (MaxPooling  (None, 1, 128)           0         \n",
            " 1D)                                                             \n",
            "                                                                 \n",
            " flatten (Flatten)           (None, 128)               0         \n",
            "                                                                 \n",
            " dense (Dense)               (None, 128)               16512     \n",
            "                                                                 \n",
            " dense_1 (Dense)             (None, 2)                 258       \n",
            "                                                                 \n",
            "=================================================================\n",
            "Total params: 25,432,694\n",
            "Trainable params: 25,432,694\n",
            "Non-trainable params: 0\n",
            "_________________________________________________________________\n"
          ]
        },
        {
          "output_type": "stream",
          "name": "stderr",
          "text": [
            "\u001b[34m\u001b[1mwandb\u001b[0m: \u001b[33mWARNING\u001b[0m The save_model argument by default saves the model in the HDF5 format that cannot save custom objects like subclassed models and custom layers. This behavior will be deprecated in a future release in favor of the SavedModel format. Meanwhile, the HDF5 model is saved as W&B files and the SavedModel as W&B Artifacts.\n"
          ]
        },
        {
          "output_type": "stream",
          "name": "stdout",
          "text": [
            "Epoch 1/5\n",
            "130/130 [==============================] - ETA: 0s - loss: 0.6938 - acc: 0.5131"
          ]
        },
        {
          "output_type": "stream",
          "name": "stderr",
          "text": [
            "WARNING:absl:Found untraced functions such as _jit_compiled_convolution_op, _jit_compiled_convolution_op, _jit_compiled_convolution_op, _update_step_xla while saving (showing 4 of 4). These functions will not be directly callable after loading.\n",
            "\u001b[34m\u001b[1mwandb\u001b[0m: Adding directory to artifact (/content/wandb/run-20230503_212355-mo3cx47d/files/model-best)... Done. 1.6s\n"
          ]
        },
        {
          "output_type": "stream",
          "name": "stdout",
          "text": [
            "\b\b\b\b\b\b\b\b\b\b\b\b\b\b\b\b\b\b\b\b\b\b\b\b\b\b\b\b\b\b\b\b\b\b\b\b\b\b\b\b\b\b\b\b\b\b\b\b\b\b\b\b\b\b\b\b\b\b\b\b\b\b\b\b\b\b\b\b\b\b\b\b\b\b\b\b\b\b\b\r130/130 [==============================] - 194s 1s/step - loss: 0.6938 - acc: 0.5131 - val_loss: 0.6844 - val_acc: 0.5700\n",
            "Epoch 2/5\n",
            "130/130 [==============================] - ETA: 0s - loss: 0.6774 - acc: 0.5869"
          ]
        },
        {
          "output_type": "stream",
          "name": "stderr",
          "text": [
            "WARNING:absl:Found untraced functions such as _jit_compiled_convolution_op, _jit_compiled_convolution_op, _jit_compiled_convolution_op, _update_step_xla while saving (showing 4 of 4). These functions will not be directly callable after loading.\n",
            "\u001b[34m\u001b[1mwandb\u001b[0m: Adding directory to artifact (/content/wandb/run-20230503_212355-mo3cx47d/files/model-best)... Done. 1.8s\n"
          ]
        },
        {
          "output_type": "stream",
          "name": "stdout",
          "text": [
            "\b\b\b\b\b\b\b\b\b\b\b\b\b\b\b\b\b\b\b\b\b\b\b\b\b\b\b\b\b\b\b\b\b\b\b\b\b\b\b\b\b\b\b\b\b\b\b\b\b\b\b\b\b\b\b\b\b\b\b\b\b\b\b\b\b\b\b\b\b\b\b\b\b\b\b\b\b\b\b\r130/130 [==============================] - 202s 2s/step - loss: 0.6774 - acc: 0.5869 - val_loss: 0.6710 - val_acc: 0.6051\n",
            "Epoch 3/5\n",
            "130/130 [==============================] - ETA: 0s - loss: 0.6651 - acc: 0.6156"
          ]
        },
        {
          "output_type": "stream",
          "name": "stderr",
          "text": [
            "WARNING:absl:Found untraced functions such as _jit_compiled_convolution_op, _jit_compiled_convolution_op, _jit_compiled_convolution_op, _update_step_xla while saving (showing 4 of 4). These functions will not be directly callable after loading.\n",
            "\u001b[34m\u001b[1mwandb\u001b[0m: Adding directory to artifact (/content/wandb/run-20230503_212355-mo3cx47d/files/model-best)... Done. 1.7s\n"
          ]
        },
        {
          "output_type": "stream",
          "name": "stdout",
          "text": [
            "\b\b\b\b\b\b\b\b\b\b\b\b\b\b\b\b\b\b\b\b\b\b\b\b\b\b\b\b\b\b\b\b\b\b\b\b\b\b\b\b\b\b\b\b\b\b\b\b\b\b\b\b\b\b\b\b\b\b\b\b\b\b\b\b\b\b\b\b\b\b\b\b\b\b\b\b\b\b\b\r130/130 [==============================] - 194s 1s/step - loss: 0.6651 - acc: 0.6156 - val_loss: 0.6596 - val_acc: 0.6226\n",
            "Epoch 4/5\n",
            "130/130 [==============================] - ETA: 0s - loss: 0.6549 - acc: 0.6296"
          ]
        },
        {
          "output_type": "stream",
          "name": "stderr",
          "text": [
            "WARNING:absl:Found untraced functions such as _jit_compiled_convolution_op, _jit_compiled_convolution_op, _jit_compiled_convolution_op, _update_step_xla while saving (showing 4 of 4). These functions will not be directly callable after loading.\n",
            "\u001b[34m\u001b[1mwandb\u001b[0m: Adding directory to artifact (/content/wandb/run-20230503_212355-mo3cx47d/files/model-best)... Done. 1.6s\n"
          ]
        },
        {
          "output_type": "stream",
          "name": "stdout",
          "text": [
            "\b\b\b\b\b\b\b\b\b\b\b\b\b\b\b\b\b\b\b\b\b\b\b\b\b\b\b\b\b\b\b\b\b\b\b\b\b\b\b\b\b\b\b\b\b\b\b\b\b\b\b\b\b\b\b\b\b\b\b\b\b\b\b\b\b\b\b\b\b\b\b\b\b\b\b\b\b\b\b\r130/130 [==============================] - 192s 1s/step - loss: 0.6549 - acc: 0.6296 - val_loss: 0.6501 - val_acc: 0.6317\n",
            "Epoch 5/5\n",
            "130/130 [==============================] - ETA: 0s - loss: 0.6463 - acc: 0.6394"
          ]
        },
        {
          "output_type": "stream",
          "name": "stderr",
          "text": [
            "WARNING:absl:Found untraced functions such as _jit_compiled_convolution_op, _jit_compiled_convolution_op, _jit_compiled_convolution_op, _update_step_xla while saving (showing 4 of 4). These functions will not be directly callable after loading.\n",
            "\u001b[34m\u001b[1mwandb\u001b[0m: Adding directory to artifact (/content/wandb/run-20230503_212355-mo3cx47d/files/model-best)... Done. 1.9s\n"
          ]
        },
        {
          "output_type": "stream",
          "name": "stdout",
          "text": [
            "\b\b\b\b\b\b\b\b\b\b\b\b\b\b\b\b\b\b\b\b\b\b\b\b\b\b\b\b\b\b\b\b\b\b\b\b\b\b\b\b\b\b\b\b\b\b\b\b\b\b\b\b\b\b\b\b\b\b\b\b\b\b\b\b\b\b\b\b\b\b\b\b\b\b\b\b\b\b\b\r130/130 [==============================] - 189s 1s/step - loss: 0.6463 - acc: 0.6394 - val_loss: 0.6422 - val_acc: 0.6446\n"
          ]
        }
      ],
      "source": [
        "# custom CNN model\n",
        "import wandb\n",
        "from keras.layers import Dropout\n",
        "input_sequence = Input(shape=(MAX_SEQUENCE_LENGTH,), dtype='int32')\n",
        "embedded_sequences = embedding_layer(input_sequence)\n",
        "\n",
        "#Add first convolutional layer\n",
        "covolution1= Conv1D(128, 5, activation='relu')(embedded_sequences)\n",
        "pool1 = MaxPooling1D(5)(covolution1)\n",
        "\n",
        "#Add dropout layer\n",
        "dropout1 = Dropout(0.2)(pool1)\n",
        "\n",
        "#Add second convolutional layer\n",
        "covolution2 = Conv1D(128, 5, activation='relu')(pool1)\n",
        "pool2 = MaxPooling1D(5)(covolution2)\n",
        "\n",
        "#Add dropout layer\n",
        "dropout2 = Dropout(0.2)(pool2)\n",
        "\n",
        "#Add third convolutional layer\n",
        "covolution3 = Conv1D(128, 5, activation='relu')(pool2)\n",
        "pool3 = MaxPooling1D(35)(covolution3)  # global max pooling\n",
        "\n",
        "#Add fourth layer\n",
        "l_flat = Flatten()(pool3)\n",
        "\n",
        "#Add two dense layers\n",
        "l_dense = Dense(128, activation='relu')(l_flat)\n",
        "dropout3 = Dropout(0.2)(l_dense)\n",
        "predictions = Dense(2, activation='softmax')(l_dense)\n",
        "\n",
        "#Use wandb to display training accuracy and loss graphs\n",
        "wandb.init(project=\"FakeNews\")\n",
        "config = wandb.config\n",
        "config.learning_rate = 0.01\n",
        "\n",
        "model = Model(input_sequence, predictions)\n",
        "model.compile(loss='categorical_crossentropy',\n",
        "              optimizer='adadelta',\n",
        "              metrics=['acc'])\n",
        "\n",
        "print(\"Fitting the convolutional neural network model\")\n",
        "model.summary()\n",
        "\n",
        "history = model.fit(x_train, y_train, validation_data=(x_val, y_val),\n",
        "          epochs=5, batch_size=128,callbacks=[WandbCallback()])\n",
        "\n",
        "#!wandb login --relogin"
      ]
    },
    {
      "cell_type": "markdown",
      "id": "a61aac25",
      "metadata": {
        "id": "a61aac25"
      },
      "source": [
        "## Save the model and plot its metrics"
      ]
    },
    {
      "cell_type": "code",
      "execution_count": 9,
      "id": "14c84fde",
      "metadata": {
        "colab": {
          "base_uri": "https://localhost:8080/",
          "height": 945
        },
        "id": "14c84fde",
        "outputId": "1c7b2fbc-b84e-40cb-e41b-ba1bc66270f7"
      },
      "outputs": [
        {
          "output_type": "stream",
          "name": "stdout",
          "text": [
            "dict_keys(['loss', 'acc', 'val_loss', 'val_acc'])\n"
          ]
        },
        {
          "output_type": "display_data",
          "data": {
            "text/plain": [
              "<Figure size 640x480 with 1 Axes>"
            ],
            "image/png": "[encoded data removed]"
          },
          "metadata": {}
        },
        {
          "output_type": "display_data",
          "data": {
            "text/plain": [
              "<Figure size 640x480 with 1 Axes>"
            ],
            "image/png": "[encoded data removed]"
          },
          "metadata": {}
        }
      ],
      "source": [
        "import joblib\n",
        "model_filename = \"cnnepochs5.pkl\"\n",
        "joblib.dump(history.history, model_filename)\n",
        "\n",
        "# list all data in history\n",
        "print(history.history.keys())\n",
        "\n",
        "# summarize history for accuracy\n",
        "plt.plot(history.history['acc'])\n",
        "plt.plot(history.history['val_acc'])\n",
        "plt.title('model accuracy')\n",
        "plt.xlabel('epoch')\n",
        "plt.ylabel('accuracy')\n",
        "plt.legend(['train', 'test'], loc='upper left')\n",
        "plt.show()\n",
        "\n",
        "# summarize history for loss\n",
        "plt.plot(history.history['loss'])\n",
        "plt.plot(history.history['val_loss'])\n",
        "plt.title('model loss')\n",
        "plt.xlabel('epoch')\n",
        "plt.ylabel('loss')\n",
        "plt.legend(['train', 'test'], loc='upper left')\n",
        "plt.show()"
      ]
    },
    {
      "cell_type": "markdown",
      "id": "bf1f40c6",
      "metadata": {
        "id": "bf1f40c6"
      },
      "source": [
        "## Test the model"
      ]
    },
    {
      "cell_type": "code",
      "execution_count": 10,
      "id": "1929961b",
      "metadata": {
        "colab": {
          "base_uri": "https://localhost:8080/"
        },
        "id": "1929961b",
        "outputId": "4200fe5d-9ed1-4931-8ca2-2dad1b56b72a"
      },
      "outputs": [
        {
          "output_type": "stream",
          "name": "stdout",
          "text": [
            "325/325 [==============================] - 22s 68ms/step\n",
            "Correct number of predictions obtained: 6747.000000000001\n",
            "Total number of test examples: 10400\n",
            "Accuracy of model: 64.88%\n"
          ]
        }
      ],
      "source": [
        "# Test the model\n",
        "\n",
        "from sklearn.metrics import accuracy_score\n",
        "\n",
        "# Test the model\n",
        "y_pred = model.predict(x_test)\n",
        "y_pred = np.round(y_pred).flatten()\n",
        "accuracy = accuracy_score(y_test.flatten(), y_pred)\n",
        "print(f\"Correct number of predictions obtained: {accuracy * len(y_test)}\")\n",
        "print(f\"Total number of test examples: {len(y_test)}\")\n",
        "print(f\"Accuracy of model: {accuracy:.2%}\")"
      ]
    },
    {
      "cell_type": "markdown",
      "id": "4ca27cdf",
      "metadata": {
        "id": "4ca27cdf"
      },
      "source": [
        "## Obtain Metrics"
      ]
    },
    {
      "cell_type": "code",
      "execution_count": 13,
      "id": "373ef2fe",
      "metadata": {
        "colab": {
          "base_uri": "https://localhost:8080/",
          "height": 526
        },
        "id": "373ef2fe",
        "outputId": "ac982f04-948e-489d-d823-2e61cfaf19a4"
      },
      "outputs": [
        {
          "output_type": "stream",
          "name": "stdout",
          "text": [
            "325/325 [==============================] - 21s 64ms/step\n",
            "Test accuracy of the model: 0.6487500071525574\n",
            "Test loss of the model: 0.641664445400238\n"
          ]
        },
        {
          "output_type": "display_data",
          "data": {
            "text/plain": [
              "<Figure size 640x480 with 2 Axes>"
            ],
            "image/png": "[encoded data removed]"
          },
          "metadata": {}
        }
      ],
      "source": [
        "# Creating the Confusion Matrix\n",
        "from sklearn.metrics import confusion_matrix\n",
        "import seaborn as sns\n",
        "\n",
        "# Predict on test set and get the class with highest probability\n",
        "y_pred = np.argmax(model.predict(x_test), axis=1)\n",
        "\n",
        "# Compute confusion matrix\n",
        "cm = confusion_matrix(y_test.argmax(axis=1), y_pred)\n",
        "\n",
        "# Plot confusion matrix using seaborn heatmap\n",
        "sns.heatmap(cm, annot=True, cmap='Blues', fmt='d')\n",
        "plt.title('Confusion matrix - model')\n",
        "plt.xlabel('Predicted label')\n",
        "plt.ylabel('True label')\n",
        "\n",
        "#Evaluate the model\n",
        "score = model.evaluate(x_test, y_test, verbose=0)\n",
        "\n",
        "#Display test accuracy and loss\n",
        "print('Test accuracy of the model:', score[1])\n",
        "print('Test loss of the model:', score[0])\n"
      ]
    },
    {
      "cell_type": "code",
      "execution_count": null,
      "id": "RGEJNxYLlQrv",
      "metadata": {
        "id": "RGEJNxYLlQrv"
      },
      "outputs": [],
      "source": []
    }
  ],
  "metadata": {
    "colab": {
      "machine_shape": "hm",
      "provenance": []
    },
    "gpuClass": "standard",
    "kernelspec": {
      "display_name": "Python 3 (ipykernel)",
      "language": "python",
      "name": "python3"
    },
    "language_info": {
      "codemirror_mode": {
        "name": "ipython",
        "version": 3
      },
      "file_extension": ".py",
      "mimetype": "text/x-python",
      "name": "python",
      "nbconvert_exporter": "python",
      "pygments_lexer": "ipython3",
      "version": "3.9.12"
    }
  },
  "nbformat": 4,
  "nbformat_minor": 5
}